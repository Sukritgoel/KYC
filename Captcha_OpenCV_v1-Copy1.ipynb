{
 "cells": [
  {
   "cell_type": "code",
   "execution_count": 8,
   "metadata": {},
   "outputs": [],
   "source": [
    "import cv2 as cv\n",
    "import pytesseract\n",
    "from PIL import Image\n",
    "import numpy as np\n",
    "import re\n",
    "\n",
    "def break_captcha(path):\n",
    "\n",
    "\n",
    "    image = cv.imread(path)\n",
    "\n",
    "    # Rescale the image, if needed.\n",
    "    img = cv.resize(image, None, fx=10.5, fy=10.5, interpolation=cv.INTER_CUBIC)\n",
    "    # Convert to gray\n",
    "    img = cv.cvtColor(img, cv.COLOR_BGR2GRAY)\n",
    "\n",
    "    # Apply dilation and erosion to remove some noise\n",
    "    kernel = np.ones((1, 1), np.uint8)\n",
    "    img = cv.dilate(img, kernel, iterations=1)\n",
    "    img = cv.erode(img, kernel, iterations=1)\n",
    "    # Apply threshold to get image with only black and white\n",
    "    # img = cv.threshold(cv.GaussianBlur(img, (9, 9), 0), 0, 255, cv.THRESH_BINARY + cv.THRESH_OTSU)[1]\n",
    "\n",
    "\n",
    "#     cv.imshow('Original Image', image)\n",
    "#     cv.imshow('Gray Image', img)\n",
    "#     cv.waitKey(0)\n",
    "#     cv.destroyAllWindows()\n",
    "\n",
    "    pytesseract.pytesseract.tesseract_cmd = 'C:\\\\Users\\\\Sukrit.Goel\\\\Documents\\\\new solutions\\\\captcha\\\\Tesseract-OCR\\\\tesseract.exe'   # tesseract.exe path\n",
    "\n",
    "    result = pytesseract.image_to_string(img,lang='eng')\n",
    "#     result = re.sub('\\W+','', result )\n",
    "    result = result.split(\"\\n\")\n",
    "    return result\n",
    "\n",
    "\n"
   ]
  },
  {
   "cell_type": "code",
   "execution_count": 13,
   "metadata": {},
   "outputs": [
    {
     "data": {
      "text/plain": [
       "['REPUBLIC OF SOUTH AFRICA',\n",
       " '',\n",
       " 'NATIONAL 1O0OENTITY CARD',\n",
       " '',\n",
       " 'ABCOGFWLMNOPORSYWXZY',\n",
       " '',\n",
       " '$20“; GMIUKLMNOPORSTUVXZY',\n",
       " 'x:',\n",
       " '',\n",
       " 'M',\n",
       " '',\n",
       " 'Naxtonaiity:',\n",
       " 'RSA',\n",
       " '',\n",
       " 'identity Numbor:',\n",
       " 'O12',\n",
       " 'OMe <4 Bath',\n",
       " '',\n",
       " '16 JUL 1969',\n",
       " '',\n",
       " 'Cojebty od Batts;',\n",
       " '',\n",
       " 'ys s ‘W',\n",
       " 'cmzEN e']"
      ]
     },
     "execution_count": 13,
     "metadata": {},
     "output_type": "execute_result"
    }
   ],
   "source": [
    "break_captcha(r\"C:\\Users\\Sukrit.Goel\\Documents\\new solutions\\KYC\\sample images\\ZA_Smart_ID_Front.png\")"
   ]
  },
  {
   "cell_type": "code",
   "execution_count": null,
   "metadata": {},
   "outputs": [],
   "source": []
  },
  {
   "cell_type": "code",
   "execution_count": null,
   "metadata": {},
   "outputs": [],
   "source": []
  }
 ],
 "metadata": {
  "kernelspec": {
   "display_name": "Python 3",
   "language": "python",
   "name": "python3"
  },
  "language_info": {
   "codemirror_mode": {
    "name": "ipython",
    "version": 3
   },
   "file_extension": ".py",
   "mimetype": "text/x-python",
   "name": "python",
   "nbconvert_exporter": "python",
   "pygments_lexer": "ipython3",
   "version": "3.6.5"
  }
 },
 "nbformat": 4,
 "nbformat_minor": 2
}
